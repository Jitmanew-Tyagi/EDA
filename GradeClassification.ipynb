{
 "cells": [
  {
   "cell_type": "code",
   "execution_count": 1,
   "metadata": {},
   "outputs": [],
   "source": [
    "import pandas as pd\n",
    "import numpy as np \n",
    "import matplotlib.pyplot as plt\n",
    "import seaborn as sns\n",
    "from sklearn.model_selection import train_test_split"
   ]
  },
  {
   "cell_type": "code",
   "execution_count": 2,
   "metadata": {},
   "outputs": [
    {
     "data": {
      "text/plain": [
       "Index(['grade', 'score10', 'score4', 'score5', 'score6', 'score7', 'score1',\n",
       "       'score2', 'score3', 'score8', 'score9', 'Name'],\n",
       "      dtype='object')"
      ]
     },
     "execution_count": 2,
     "metadata": {},
     "output_type": "execute_result"
    }
   ],
   "source": [
    "link = 'Data.csv'\n",
    "data = pd.read_csv(link)\n",
    "data.columns"
   ]
  },
  {
   "cell_type": "code",
   "execution_count": 3,
   "metadata": {},
   "outputs": [
    {
     "data": {
      "text/html": [
       "<div>\n",
       "<style scoped>\n",
       "    .dataframe tbody tr th:only-of-type {\n",
       "        vertical-align: middle;\n",
       "    }\n",
       "\n",
       "    .dataframe tbody tr th {\n",
       "        vertical-align: top;\n",
       "    }\n",
       "\n",
       "    .dataframe thead th {\n",
       "        text-align: right;\n",
       "    }\n",
       "</style>\n",
       "<table border=\"1\" class=\"dataframe\">\n",
       "  <thead>\n",
       "    <tr style=\"text-align: right;\">\n",
       "      <th></th>\n",
       "      <th>score10</th>\n",
       "      <th>score4</th>\n",
       "      <th>score5</th>\n",
       "      <th>score6</th>\n",
       "      <th>score7</th>\n",
       "      <th>score1</th>\n",
       "      <th>score2</th>\n",
       "      <th>score3</th>\n",
       "      <th>score8</th>\n",
       "      <th>score9</th>\n",
       "    </tr>\n",
       "  </thead>\n",
       "  <tbody>\n",
       "    <tr>\n",
       "      <th>count</th>\n",
       "      <td>5000.000000</td>\n",
       "      <td>5000.000000</td>\n",
       "      <td>5000.000000</td>\n",
       "      <td>5000.000000</td>\n",
       "      <td>5000.000000</td>\n",
       "      <td>5000.000000</td>\n",
       "      <td>5000.000000</td>\n",
       "      <td>5000.000000</td>\n",
       "      <td>5000.000000</td>\n",
       "      <td>5000.000000</td>\n",
       "    </tr>\n",
       "    <tr>\n",
       "      <th>mean</th>\n",
       "      <td>82.473800</td>\n",
       "      <td>84.940200</td>\n",
       "      <td>83.380600</td>\n",
       "      <td>82.140400</td>\n",
       "      <td>82.425400</td>\n",
       "      <td>90.815800</td>\n",
       "      <td>91.035200</td>\n",
       "      <td>84.798000</td>\n",
       "      <td>82.397200</td>\n",
       "      <td>82.364400</td>\n",
       "    </tr>\n",
       "    <tr>\n",
       "      <th>std</th>\n",
       "      <td>13.023196</td>\n",
       "      <td>13.737102</td>\n",
       "      <td>13.484054</td>\n",
       "      <td>13.007418</td>\n",
       "      <td>13.122853</td>\n",
       "      <td>8.615818</td>\n",
       "      <td>8.519817</td>\n",
       "      <td>14.048241</td>\n",
       "      <td>12.949802</td>\n",
       "      <td>12.848013</td>\n",
       "    </tr>\n",
       "    <tr>\n",
       "      <th>min</th>\n",
       "      <td>40.000000</td>\n",
       "      <td>40.000000</td>\n",
       "      <td>40.000000</td>\n",
       "      <td>40.000000</td>\n",
       "      <td>40.000000</td>\n",
       "      <td>60.000000</td>\n",
       "      <td>60.000000</td>\n",
       "      <td>40.000000</td>\n",
       "      <td>40.000000</td>\n",
       "      <td>40.000000</td>\n",
       "    </tr>\n",
       "    <tr>\n",
       "      <th>25%</th>\n",
       "      <td>76.000000</td>\n",
       "      <td>77.000000</td>\n",
       "      <td>76.000000</td>\n",
       "      <td>76.000000</td>\n",
       "      <td>76.000000</td>\n",
       "      <td>90.000000</td>\n",
       "      <td>90.000000</td>\n",
       "      <td>77.000000</td>\n",
       "      <td>76.000000</td>\n",
       "      <td>76.000000</td>\n",
       "    </tr>\n",
       "    <tr>\n",
       "      <th>50%</th>\n",
       "      <td>85.000000</td>\n",
       "      <td>91.000000</td>\n",
       "      <td>87.000000</td>\n",
       "      <td>85.000000</td>\n",
       "      <td>85.000000</td>\n",
       "      <td>93.000000</td>\n",
       "      <td>94.000000</td>\n",
       "      <td>91.000000</td>\n",
       "      <td>85.000000</td>\n",
       "      <td>85.000000</td>\n",
       "    </tr>\n",
       "    <tr>\n",
       "      <th>75%</th>\n",
       "      <td>92.000000</td>\n",
       "      <td>95.000000</td>\n",
       "      <td>94.000000</td>\n",
       "      <td>92.000000</td>\n",
       "      <td>92.000000</td>\n",
       "      <td>96.000000</td>\n",
       "      <td>97.000000</td>\n",
       "      <td>95.000000</td>\n",
       "      <td>92.000000</td>\n",
       "      <td>92.000000</td>\n",
       "    </tr>\n",
       "    <tr>\n",
       "      <th>max</th>\n",
       "      <td>99.000000</td>\n",
       "      <td>99.000000</td>\n",
       "      <td>99.000000</td>\n",
       "      <td>99.000000</td>\n",
       "      <td>99.000000</td>\n",
       "      <td>99.000000</td>\n",
       "      <td>99.000000</td>\n",
       "      <td>99.000000</td>\n",
       "      <td>99.000000</td>\n",
       "      <td>99.000000</td>\n",
       "    </tr>\n",
       "  </tbody>\n",
       "</table>\n",
       "</div>"
      ],
      "text/plain": [
       "           score10       score4       score5       score6       score7  \\\n",
       "count  5000.000000  5000.000000  5000.000000  5000.000000  5000.000000   \n",
       "mean     82.473800    84.940200    83.380600    82.140400    82.425400   \n",
       "std      13.023196    13.737102    13.484054    13.007418    13.122853   \n",
       "min      40.000000    40.000000    40.000000    40.000000    40.000000   \n",
       "25%      76.000000    77.000000    76.000000    76.000000    76.000000   \n",
       "50%      85.000000    91.000000    87.000000    85.000000    85.000000   \n",
       "75%      92.000000    95.000000    94.000000    92.000000    92.000000   \n",
       "max      99.000000    99.000000    99.000000    99.000000    99.000000   \n",
       "\n",
       "            score1       score2       score3       score8       score9  \n",
       "count  5000.000000  5000.000000  5000.000000  5000.000000  5000.000000  \n",
       "mean     90.815800    91.035200    84.798000    82.397200    82.364400  \n",
       "std       8.615818     8.519817    14.048241    12.949802    12.848013  \n",
       "min      60.000000    60.000000    40.000000    40.000000    40.000000  \n",
       "25%      90.000000    90.000000    77.000000    76.000000    76.000000  \n",
       "50%      93.000000    94.000000    91.000000    85.000000    85.000000  \n",
       "75%      96.000000    97.000000    95.000000    92.000000    92.000000  \n",
       "max      99.000000    99.000000    99.000000    99.000000    99.000000  "
      ]
     },
     "execution_count": 3,
     "metadata": {},
     "output_type": "execute_result"
    }
   ],
   "source": [
    "data.describe()"
   ]
  },
  {
   "cell_type": "code",
   "execution_count": 4,
   "metadata": {},
   "outputs": [
    {
     "name": "stdout",
     "output_type": "stream",
     "text": [
      "<class 'pandas.core.frame.DataFrame'>\n",
      "RangeIndex: 5000 entries, 0 to 4999\n",
      "Data columns (total 12 columns):\n",
      " #   Column   Non-Null Count  Dtype \n",
      "---  ------   --------------  ----- \n",
      " 0   grade    5000 non-null   object\n",
      " 1   score10  5000 non-null   int64 \n",
      " 2   score4   5000 non-null   int64 \n",
      " 3   score5   5000 non-null   int64 \n",
      " 4   score6   5000 non-null   int64 \n",
      " 5   score7   5000 non-null   int64 \n",
      " 6   score1   5000 non-null   int64 \n",
      " 7   score2   5000 non-null   int64 \n",
      " 8   score3   5000 non-null   int64 \n",
      " 9   score8   5000 non-null   int64 \n",
      " 10  score9   5000 non-null   int64 \n",
      " 11  Name     5000 non-null   object\n",
      "dtypes: int64(10), object(2)\n",
      "memory usage: 468.9+ KB\n"
     ]
    }
   ],
   "source": [
    "data.info()"
   ]
  },
  {
   "cell_type": "code",
   "execution_count": 5,
   "metadata": {},
   "outputs": [
    {
     "data": {
      "text/plain": [
       "(5000, 12)"
      ]
     },
     "execution_count": 5,
     "metadata": {},
     "output_type": "execute_result"
    }
   ],
   "source": [
    "data.shape"
   ]
  },
  {
   "cell_type": "code",
   "execution_count": 6,
   "metadata": {},
   "outputs": [
    {
     "data": {
      "text/html": [
       "<div>\n",
       "<style scoped>\n",
       "    .dataframe tbody tr th:only-of-type {\n",
       "        vertical-align: middle;\n",
       "    }\n",
       "\n",
       "    .dataframe tbody tr th {\n",
       "        vertical-align: top;\n",
       "    }\n",
       "\n",
       "    .dataframe thead th {\n",
       "        text-align: right;\n",
       "    }\n",
       "</style>\n",
       "<table border=\"1\" class=\"dataframe\">\n",
       "  <thead>\n",
       "    <tr style=\"text-align: right;\">\n",
       "      <th></th>\n",
       "      <th>grade</th>\n",
       "      <th>score10</th>\n",
       "      <th>score4</th>\n",
       "      <th>score5</th>\n",
       "      <th>score6</th>\n",
       "      <th>score7</th>\n",
       "      <th>score1</th>\n",
       "      <th>score2</th>\n",
       "      <th>score3</th>\n",
       "      <th>score8</th>\n",
       "      <th>score9</th>\n",
       "      <th>Name</th>\n",
       "    </tr>\n",
       "  </thead>\n",
       "  <tbody>\n",
       "    <tr>\n",
       "      <th>0</th>\n",
       "      <td>Fair</td>\n",
       "      <td>94</td>\n",
       "      <td>67</td>\n",
       "      <td>99</td>\n",
       "      <td>67</td>\n",
       "      <td>72</td>\n",
       "      <td>94</td>\n",
       "      <td>84</td>\n",
       "      <td>81</td>\n",
       "      <td>93</td>\n",
       "      <td>63</td>\n",
       "      <td>SAI TARUN PAWAR</td>\n",
       "    </tr>\n",
       "    <tr>\n",
       "      <th>1</th>\n",
       "      <td>Very good</td>\n",
       "      <td>77</td>\n",
       "      <td>95</td>\n",
       "      <td>85</td>\n",
       "      <td>81</td>\n",
       "      <td>83</td>\n",
       "      <td>92</td>\n",
       "      <td>98</td>\n",
       "      <td>97</td>\n",
       "      <td>83</td>\n",
       "      <td>82</td>\n",
       "      <td>AKSHAY Dasgupta</td>\n",
       "    </tr>\n",
       "    <tr>\n",
       "      <th>2</th>\n",
       "      <td>Exceptional</td>\n",
       "      <td>91</td>\n",
       "      <td>95</td>\n",
       "      <td>93</td>\n",
       "      <td>95</td>\n",
       "      <td>93</td>\n",
       "      <td>91</td>\n",
       "      <td>93</td>\n",
       "      <td>91</td>\n",
       "      <td>83</td>\n",
       "      <td>85</td>\n",
       "      <td>Aneet Randhawa</td>\n",
       "    </tr>\n",
       "    <tr>\n",
       "      <th>3</th>\n",
       "      <td>Good</td>\n",
       "      <td>75</td>\n",
       "      <td>72</td>\n",
       "      <td>91</td>\n",
       "      <td>84</td>\n",
       "      <td>93</td>\n",
       "      <td>93</td>\n",
       "      <td>98</td>\n",
       "      <td>77</td>\n",
       "      <td>74</td>\n",
       "      <td>97</td>\n",
       "      <td>FARDIN NAWAB ALI BHATI</td>\n",
       "    </tr>\n",
       "    <tr>\n",
       "      <th>4</th>\n",
       "      <td>Fair</td>\n",
       "      <td>80</td>\n",
       "      <td>77</td>\n",
       "      <td>87</td>\n",
       "      <td>75</td>\n",
       "      <td>89</td>\n",
       "      <td>82</td>\n",
       "      <td>94</td>\n",
       "      <td>84</td>\n",
       "      <td>99</td>\n",
       "      <td>75</td>\n",
       "      <td>ASHISH KUMAR</td>\n",
       "    </tr>\n",
       "  </tbody>\n",
       "</table>\n",
       "</div>"
      ],
      "text/plain": [
       "         grade  score10  score4  score5  score6  score7  score1  score2  \\\n",
       "0         Fair       94      67      99      67      72      94      84   \n",
       "1    Very good       77      95      85      81      83      92      98   \n",
       "2  Exceptional       91      95      93      95      93      91      93   \n",
       "3         Good       75      72      91      84      93      93      98   \n",
       "4         Fair       80      77      87      75      89      82      94   \n",
       "\n",
       "   score3  score8  score9                    Name  \n",
       "0      81      93      63         SAI TARUN PAWAR  \n",
       "1      97      83      82         AKSHAY Dasgupta  \n",
       "2      91      83      85          Aneet Randhawa  \n",
       "3      77      74      97  FARDIN NAWAB ALI BHATI  \n",
       "4      84      99      75            ASHISH KUMAR  "
      ]
     },
     "execution_count": 6,
     "metadata": {},
     "output_type": "execute_result"
    }
   ],
   "source": [
    "data.head()"
   ]
  },
  {
   "cell_type": "code",
   "execution_count": 7,
   "metadata": {},
   "outputs": [
    {
     "data": {
      "text/plain": [
       "array(['Fair', 'Very good', 'Exceptional', 'Good', 'Poor'], dtype=object)"
      ]
     },
     "execution_count": 7,
     "metadata": {},
     "output_type": "execute_result"
    }
   ],
   "source": [
    "data.grade.unique()"
   ]
  },
  {
   "cell_type": "code",
   "execution_count": 8,
   "metadata": {},
   "outputs": [],
   "source": [
    "def change_grade(x):\n",
    "    arr = ['Poor','Fair','Good','Very good','Exceptional']\n",
    "    for i in arr:\n",
    "        if x == i:\n",
    "            return(arr.index(i))\n",
    "        else: pass\n",
    "data.grade = data.grade.map(change_grade)"
   ]
  },
  {
   "cell_type": "code",
   "execution_count": 9,
   "metadata": {},
   "outputs": [
    {
     "data": {
      "text/html": [
       "<div>\n",
       "<style scoped>\n",
       "    .dataframe tbody tr th:only-of-type {\n",
       "        vertical-align: middle;\n",
       "    }\n",
       "\n",
       "    .dataframe tbody tr th {\n",
       "        vertical-align: top;\n",
       "    }\n",
       "\n",
       "    .dataframe thead th {\n",
       "        text-align: right;\n",
       "    }\n",
       "</style>\n",
       "<table border=\"1\" class=\"dataframe\">\n",
       "  <thead>\n",
       "    <tr style=\"text-align: right;\">\n",
       "      <th></th>\n",
       "      <th>grade</th>\n",
       "      <th>score10</th>\n",
       "      <th>score4</th>\n",
       "      <th>score5</th>\n",
       "      <th>score6</th>\n",
       "      <th>score7</th>\n",
       "      <th>score1</th>\n",
       "      <th>score2</th>\n",
       "      <th>score3</th>\n",
       "      <th>score8</th>\n",
       "      <th>score9</th>\n",
       "      <th>Name</th>\n",
       "    </tr>\n",
       "  </thead>\n",
       "  <tbody>\n",
       "    <tr>\n",
       "      <th>0</th>\n",
       "      <td>1</td>\n",
       "      <td>94</td>\n",
       "      <td>67</td>\n",
       "      <td>99</td>\n",
       "      <td>67</td>\n",
       "      <td>72</td>\n",
       "      <td>94</td>\n",
       "      <td>84</td>\n",
       "      <td>81</td>\n",
       "      <td>93</td>\n",
       "      <td>63</td>\n",
       "      <td>SAI TARUN PAWAR</td>\n",
       "    </tr>\n",
       "    <tr>\n",
       "      <th>1</th>\n",
       "      <td>3</td>\n",
       "      <td>77</td>\n",
       "      <td>95</td>\n",
       "      <td>85</td>\n",
       "      <td>81</td>\n",
       "      <td>83</td>\n",
       "      <td>92</td>\n",
       "      <td>98</td>\n",
       "      <td>97</td>\n",
       "      <td>83</td>\n",
       "      <td>82</td>\n",
       "      <td>AKSHAY Dasgupta</td>\n",
       "    </tr>\n",
       "    <tr>\n",
       "      <th>2</th>\n",
       "      <td>4</td>\n",
       "      <td>91</td>\n",
       "      <td>95</td>\n",
       "      <td>93</td>\n",
       "      <td>95</td>\n",
       "      <td>93</td>\n",
       "      <td>91</td>\n",
       "      <td>93</td>\n",
       "      <td>91</td>\n",
       "      <td>83</td>\n",
       "      <td>85</td>\n",
       "      <td>Aneet Randhawa</td>\n",
       "    </tr>\n",
       "    <tr>\n",
       "      <th>3</th>\n",
       "      <td>2</td>\n",
       "      <td>75</td>\n",
       "      <td>72</td>\n",
       "      <td>91</td>\n",
       "      <td>84</td>\n",
       "      <td>93</td>\n",
       "      <td>93</td>\n",
       "      <td>98</td>\n",
       "      <td>77</td>\n",
       "      <td>74</td>\n",
       "      <td>97</td>\n",
       "      <td>FARDIN NAWAB ALI BHATI</td>\n",
       "    </tr>\n",
       "    <tr>\n",
       "      <th>4</th>\n",
       "      <td>1</td>\n",
       "      <td>80</td>\n",
       "      <td>77</td>\n",
       "      <td>87</td>\n",
       "      <td>75</td>\n",
       "      <td>89</td>\n",
       "      <td>82</td>\n",
       "      <td>94</td>\n",
       "      <td>84</td>\n",
       "      <td>99</td>\n",
       "      <td>75</td>\n",
       "      <td>ASHISH KUMAR</td>\n",
       "    </tr>\n",
       "  </tbody>\n",
       "</table>\n",
       "</div>"
      ],
      "text/plain": [
       "   grade  score10  score4  score5  score6  score7  score1  score2  score3  \\\n",
       "0      1       94      67      99      67      72      94      84      81   \n",
       "1      3       77      95      85      81      83      92      98      97   \n",
       "2      4       91      95      93      95      93      91      93      91   \n",
       "3      2       75      72      91      84      93      93      98      77   \n",
       "4      1       80      77      87      75      89      82      94      84   \n",
       "\n",
       "   score8  score9                    Name  \n",
       "0      93      63         SAI TARUN PAWAR  \n",
       "1      83      82         AKSHAY Dasgupta  \n",
       "2      83      85          Aneet Randhawa  \n",
       "3      74      97  FARDIN NAWAB ALI BHATI  \n",
       "4      99      75            ASHISH KUMAR  "
      ]
     },
     "execution_count": 9,
     "metadata": {},
     "output_type": "execute_result"
    }
   ],
   "source": [
    "data.head()"
   ]
  },
  {
   "cell_type": "code",
   "execution_count": 10,
   "metadata": {},
   "outputs": [],
   "source": [
    "cols = ['score10', 'score4', 'score5', 'score6', 'score7', 'score1',\n",
    "       'score2', 'score3', 'score8', 'score9',]\n",
    "X = data[cols]\n",
    "y=data.grade"
   ]
  },
  {
   "cell_type": "code",
   "execution_count": 11,
   "metadata": {},
   "outputs": [
    {
     "data": {
      "text/plain": [
       "<matplotlib.axes._subplots.AxesSubplot at 0x7fa6798dc4d0>"
      ]
     },
     "execution_count": 11,
     "metadata": {},
     "output_type": "execute_result"
    },
    {
     "data": {
      "image/png": "[encoded data removed]",
      "text/plain": [
       "<Figure size 360x216 with 1 Axes>"
      ]
     },
     "metadata": {
      "needs_background": "light"
     },
     "output_type": "display_data"
    }
   ],
   "source": [
    "plt.figure(figsize=(5,3))\n",
    "sns.countplot(data.grade,hue=data.grade)\n",
    "# Totally balanced data"
   ]
  },
  {
   "cell_type": "markdown",
   "metadata": {},
   "source": [
    "#### The data seems to be pretty neat, so applying model without changing "
   ]
  },
  {
   "cell_type": "code",
   "execution_count": 12,
   "metadata": {},
   "outputs": [],
   "source": [
    "X_train, X_test, y_train, y_test = train_test_split(X, y, test_size=0.10, random_state=42)"
   ]
  },
  {
   "cell_type": "code",
   "execution_count": 13,
   "metadata": {},
   "outputs": [],
   "source": [
    "def accuracy(l1):\n",
    "    l2 = y_test\n",
    "    sum=0\n",
    "    a = list(l2)\n",
    "    for i in range(len(a)):\n",
    "        if a[i] == l1[i]:\n",
    "            sum+=1\n",
    "    return(sum/len(prediction)*100)"
   ]
  },
  {
   "cell_type": "code",
   "execution_count": 14,
   "metadata": {},
   "outputs": [
    {
     "data": {
      "text/plain": [
       "95.8"
      ]
     },
     "execution_count": 14,
     "metadata": {},
     "output_type": "execute_result"
    }
   ],
   "source": [
    "from sklearn.ensemble import RandomForestClassifier\n",
    "clf = RandomForestClassifier(max_depth=48, random_state=0,criterion='gini')\n",
    "clf.fit(X_train, y_train)\n",
    "prediction = clf.predict(X_test)\n",
    "accuracy(prediction)"
   ]
  },
  {
   "cell_type": "code",
   "execution_count": 15,
   "metadata": {},
   "outputs": [
    {
     "data": {
      "text/plain": [
       "77.4"
      ]
     },
     "execution_count": 15,
     "metadata": {},
     "output_type": "execute_result"
    }
   ],
   "source": [
    "from sklearn.linear_model import LogisticRegression\n",
    "clf = LogisticRegression(random_state=0,max_iter=50000).fit(X_train, y_train)\n",
    "predictions = clf.predict(X_test)\n",
    "accuracy(predictions)"
   ]
  },
  {
   "cell_type": "code",
   "execution_count": 16,
   "metadata": {},
   "outputs": [
    {
     "name": "stdout",
     "output_type": "stream",
     "text": [
      "79.2\n"
     ]
    }
   ],
   "source": [
    "from sklearn.neighbors import KNeighborsClassifier\n",
    "neigh = KNeighborsClassifier(n_neighbors=6) #I claculated optimal value of k but later deleted that cell\n",
    "neigh.fit(X_train, y_train)\n",
    "pred = neigh.predict(X_test)\n",
    "print(accuracy(pred))"
   ]
  },
  {
   "cell_type": "markdown",
   "metadata": {},
   "source": [
    "## Applying PCA"
   ]
  },
  {
   "cell_type": "code",
   "execution_count": 17,
   "metadata": {},
   "outputs": [],
   "source": [
    "from sklearn import decomposition\n",
    "pca = decomposition.PCA()"
   ]
  },
  {
   "cell_type": "code",
   "execution_count": 18,
   "metadata": {},
   "outputs": [
    {
     "name": "stdout",
     "output_type": "stream",
     "text": [
      "shape of pca_reduced.shape =  (5000, 2)\n"
     ]
    }
   ],
   "source": [
    "pca.n_components = 2\n",
    "pca_data = pca.fit_transform(X)\n",
    "\n",
    "# pca_reduced will contain the 2-d projects of simple data\n",
    "print(\"shape of pca_reduced.shape = \", pca_data.shape)\n",
    "\n",
    "\n"
   ]
  },
  {
   "cell_type": "code",
   "execution_count": 19,
   "metadata": {
    "scrolled": true
   },
   "outputs": [],
   "source": [
    "pca_data = np.vstack((pca_data.T, y)).T\n",
    "pca_df = pd.DataFrame(data=pca_data, columns=(\"1st_principal\", \"2nd_principal\", \"grade\"))"
   ]
  },
  {
   "cell_type": "code",
   "execution_count": 20,
   "metadata": {},
   "outputs": [
    {
     "name": "stderr",
     "output_type": "stream",
     "text": [
      "/home/jitmanewtyagi/anaconda3/lib/python3.7/site-packages/seaborn/axisgrid.py:243: UserWarning: The `size` parameter has been renamed to `height`; please update your code.\n",
      "  warnings.warn(msg, UserWarning)\n"
     ]
    },
    {
     "data": {
      "text/plain": [
       "<seaborn.axisgrid.FacetGrid at 0x7fa675bcc890>"
      ]
     },
     "execution_count": 20,
     "metadata": {},
     "output_type": "execute_result"
    },
    {
     "data": {
      "image/png": "[encoded data removed]",
      "text/plain": [
       "<Figure size 483.875x432 with 1 Axes>"
      ]
     },
     "metadata": {
      "needs_background": "light"
     },
     "output_type": "display_data"
    }
   ],
   "source": [
    "\n",
    "sns.FacetGrid(pca_df, hue=\"grade\", size=6).map(plt.scatter, '1st_principal', '2nd_principal').add_legend()"
   ]
  },
  {
   "cell_type": "code",
   "execution_count": 21,
   "metadata": {},
   "outputs": [],
   "source": [
    "convData = pd.DataFrame(columns=['comp1','comp2','grade'])\n",
    "convData['comp1']=pca_data[:,0]\n",
    "convData['comp2']=pca_data[:,1]"
   ]
  },
  {
   "cell_type": "code",
   "execution_count": 22,
   "metadata": {},
   "outputs": [],
   "source": [
    "convData['grade'] = pca_data[:,2]"
   ]
  },
  {
   "cell_type": "code",
   "execution_count": 23,
   "metadata": {},
   "outputs": [
    {
     "data": {
      "text/html": [
       "<div>\n",
       "<style scoped>\n",
       "    .dataframe tbody tr th:only-of-type {\n",
       "        vertical-align: middle;\n",
       "    }\n",
       "\n",
       "    .dataframe tbody tr th {\n",
       "        vertical-align: top;\n",
       "    }\n",
       "\n",
       "    .dataframe thead th {\n",
       "        text-align: right;\n",
       "    }\n",
       "</style>\n",
       "<table border=\"1\" class=\"dataframe\">\n",
       "  <thead>\n",
       "    <tr style=\"text-align: right;\">\n",
       "      <th></th>\n",
       "      <th>comp1</th>\n",
       "      <th>comp2</th>\n",
       "      <th>grade</th>\n",
       "    </tr>\n",
       "  </thead>\n",
       "  <tbody>\n",
       "    <tr>\n",
       "      <th>0</th>\n",
       "      <td>10.395258</td>\n",
       "      <td>11.503423</td>\n",
       "      <td>1.0</td>\n",
       "    </tr>\n",
       "    <tr>\n",
       "      <th>1</th>\n",
       "      <td>-9.069875</td>\n",
       "      <td>0.112127</td>\n",
       "      <td>3.0</td>\n",
       "    </tr>\n",
       "    <tr>\n",
       "      <th>2</th>\n",
       "      <td>-21.125820</td>\n",
       "      <td>-3.409231</td>\n",
       "      <td>4.0</td>\n",
       "    </tr>\n",
       "    <tr>\n",
       "      <th>3</th>\n",
       "      <td>0.037916</td>\n",
       "      <td>5.868033</td>\n",
       "      <td>2.0</td>\n",
       "    </tr>\n",
       "    <tr>\n",
       "      <th>4</th>\n",
       "      <td>1.318340</td>\n",
       "      <td>18.326233</td>\n",
       "      <td>1.0</td>\n",
       "    </tr>\n",
       "    <tr>\n",
       "      <th>5</th>\n",
       "      <td>10.297317</td>\n",
       "      <td>5.235581</td>\n",
       "      <td>2.0</td>\n",
       "    </tr>\n",
       "    <tr>\n",
       "      <th>6</th>\n",
       "      <td>-23.725689</td>\n",
       "      <td>-3.279648</td>\n",
       "      <td>3.0</td>\n",
       "    </tr>\n",
       "    <tr>\n",
       "      <th>7</th>\n",
       "      <td>-21.538972</td>\n",
       "      <td>-5.814295</td>\n",
       "      <td>4.0</td>\n",
       "    </tr>\n",
       "    <tr>\n",
       "      <th>8</th>\n",
       "      <td>22.330119</td>\n",
       "      <td>-12.501673</td>\n",
       "      <td>0.0</td>\n",
       "    </tr>\n",
       "    <tr>\n",
       "      <th>9</th>\n",
       "      <td>-6.739471</td>\n",
       "      <td>-4.486703</td>\n",
       "      <td>2.0</td>\n",
       "    </tr>\n",
       "  </tbody>\n",
       "</table>\n",
       "</div>"
      ],
      "text/plain": [
       "       comp1      comp2  grade\n",
       "0  10.395258  11.503423    1.0\n",
       "1  -9.069875   0.112127    3.0\n",
       "2 -21.125820  -3.409231    4.0\n",
       "3   0.037916   5.868033    2.0\n",
       "4   1.318340  18.326233    1.0\n",
       "5  10.297317   5.235581    2.0\n",
       "6 -23.725689  -3.279648    3.0\n",
       "7 -21.538972  -5.814295    4.0\n",
       "8  22.330119 -12.501673    0.0\n",
       "9  -6.739471  -4.486703    2.0"
      ]
     },
     "execution_count": 23,
     "metadata": {},
     "output_type": "execute_result"
    }
   ],
   "source": [
    "convData.head(10)"
   ]
  },
  {
   "cell_type": "code",
   "execution_count": 24,
   "metadata": {},
   "outputs": [],
   "source": [
    "cols=['comp1','comp2']\n",
    "X1=convData[cols]\n",
    "y1=convData.grade"
   ]
  },
  {
   "cell_type": "code",
   "execution_count": 25,
   "metadata": {},
   "outputs": [
    {
     "data": {
      "text/html": [
       "<div>\n",
       "<style scoped>\n",
       "    .dataframe tbody tr th:only-of-type {\n",
       "        vertical-align: middle;\n",
       "    }\n",
       "\n",
       "    .dataframe tbody tr th {\n",
       "        vertical-align: top;\n",
       "    }\n",
       "\n",
       "    .dataframe thead th {\n",
       "        text-align: right;\n",
       "    }\n",
       "</style>\n",
       "<table border=\"1\" class=\"dataframe\">\n",
       "  <thead>\n",
       "    <tr style=\"text-align: right;\">\n",
       "      <th></th>\n",
       "      <th>comp1</th>\n",
       "      <th>comp2</th>\n",
       "    </tr>\n",
       "  </thead>\n",
       "  <tbody>\n",
       "    <tr>\n",
       "      <th>0</th>\n",
       "      <td>10.395258</td>\n",
       "      <td>11.503423</td>\n",
       "    </tr>\n",
       "    <tr>\n",
       "      <th>1</th>\n",
       "      <td>-9.069875</td>\n",
       "      <td>0.112127</td>\n",
       "    </tr>\n",
       "    <tr>\n",
       "      <th>2</th>\n",
       "      <td>-21.125820</td>\n",
       "      <td>-3.409231</td>\n",
       "    </tr>\n",
       "    <tr>\n",
       "      <th>3</th>\n",
       "      <td>0.037916</td>\n",
       "      <td>5.868033</td>\n",
       "    </tr>\n",
       "    <tr>\n",
       "      <th>4</th>\n",
       "      <td>1.318340</td>\n",
       "      <td>18.326233</td>\n",
       "    </tr>\n",
       "  </tbody>\n",
       "</table>\n",
       "</div>"
      ],
      "text/plain": [
       "       comp1      comp2\n",
       "0  10.395258  11.503423\n",
       "1  -9.069875   0.112127\n",
       "2 -21.125820  -3.409231\n",
       "3   0.037916   5.868033\n",
       "4   1.318340  18.326233"
      ]
     },
     "execution_count": 25,
     "metadata": {},
     "output_type": "execute_result"
    }
   ],
   "source": [
    "X1.head()"
   ]
  },
  {
   "cell_type": "code",
   "execution_count": 26,
   "metadata": {},
   "outputs": [],
   "source": [
    "X_train1, X_test1, y_train1, y_test1 = train_test_split(X1, y1, test_size=0.10, random_state=42)"
   ]
  },
  {
   "cell_type": "code",
   "execution_count": 27,
   "metadata": {},
   "outputs": [
    {
     "data": {
      "text/plain": [
       "65.60000000000001"
      ]
     },
     "execution_count": 27,
     "metadata": {},
     "output_type": "execute_result"
    }
   ],
   "source": [
    "from sklearn.ensemble import RandomForestClassifier\n",
    "clf = RandomForestClassifier(max_depth=48, random_state=0,criterion='gini')\n",
    "clf.fit(X_train1, y_train1)\n",
    "prediction = clf.predict(X_test1)\n",
    "accuracy(prediction)"
   ]
  },
  {
   "cell_type": "code",
   "execution_count": 28,
   "metadata": {},
   "outputs": [
    {
     "data": {
      "text/plain": [
       "66.4"
      ]
     },
     "execution_count": 28,
     "metadata": {},
     "output_type": "execute_result"
    }
   ],
   "source": [
    "from sklearn.linear_model import LogisticRegression\n",
    "clf = LogisticRegression(random_state=0,max_iter=50000).fit(X_train1, y_train1)\n",
    "predictions = clf.predict(X_test1)\n",
    "accuracy(predictions)"
   ]
  },
  {
   "cell_type": "code",
   "execution_count": 29,
   "metadata": {},
   "outputs": [
    {
     "name": "stdout",
     "output_type": "stream",
     "text": [
      "67.2\n"
     ]
    }
   ],
   "source": [
    "from sklearn.neighbors import KNeighborsClassifier\n",
    "\n",
    "neigh = KNeighborsClassifier(n_neighbors=17)\n",
    "neigh.fit(X_train1, y_train1)\n",
    "pred = neigh.predict(X_test1)\n",
    "print(accuracy(pred))"
   ]
  },
  {
   "cell_type": "markdown",
   "metadata": {},
   "source": [
    "Why PCA didn't work?\n",
    "As we can see the correlation between features isn't good enough\n",
    "so the PCA technique wont help"
   ]
  },
  {
   "cell_type": "code",
   "execution_count": 30,
   "metadata": {},
   "outputs": [
    {
     "data": {
      "text/html": [
       "<div>\n",
       "<style scoped>\n",
       "    .dataframe tbody tr th:only-of-type {\n",
       "        vertical-align: middle;\n",
       "    }\n",
       "\n",
       "    .dataframe tbody tr th {\n",
       "        vertical-align: top;\n",
       "    }\n",
       "\n",
       "    .dataframe thead th {\n",
       "        text-align: right;\n",
       "    }\n",
       "</style>\n",
       "<table border=\"1\" class=\"dataframe\">\n",
       "  <thead>\n",
       "    <tr style=\"text-align: right;\">\n",
       "      <th></th>\n",
       "      <th>score10</th>\n",
       "      <th>score4</th>\n",
       "      <th>score5</th>\n",
       "      <th>score6</th>\n",
       "      <th>score7</th>\n",
       "      <th>score1</th>\n",
       "      <th>score2</th>\n",
       "      <th>score3</th>\n",
       "      <th>score8</th>\n",
       "      <th>score9</th>\n",
       "    </tr>\n",
       "  </thead>\n",
       "  <tbody>\n",
       "    <tr>\n",
       "      <th>score10</th>\n",
       "      <td>1.000000</td>\n",
       "      <td>0.384457</td>\n",
       "      <td>0.372145</td>\n",
       "      <td>0.349768</td>\n",
       "      <td>0.328788</td>\n",
       "      <td>0.395734</td>\n",
       "      <td>0.387539</td>\n",
       "      <td>0.373449</td>\n",
       "      <td>0.318794</td>\n",
       "      <td>0.311538</td>\n",
       "    </tr>\n",
       "    <tr>\n",
       "      <th>score4</th>\n",
       "      <td>0.384457</td>\n",
       "      <td>1.000000</td>\n",
       "      <td>0.423880</td>\n",
       "      <td>0.391606</td>\n",
       "      <td>0.356153</td>\n",
       "      <td>0.411109</td>\n",
       "      <td>0.454742</td>\n",
       "      <td>0.466421</td>\n",
       "      <td>0.368049</td>\n",
       "      <td>0.370645</td>\n",
       "    </tr>\n",
       "    <tr>\n",
       "      <th>score5</th>\n",
       "      <td>0.372145</td>\n",
       "      <td>0.423880</td>\n",
       "      <td>1.000000</td>\n",
       "      <td>0.356597</td>\n",
       "      <td>0.364598</td>\n",
       "      <td>0.420035</td>\n",
       "      <td>0.403802</td>\n",
       "      <td>0.399621</td>\n",
       "      <td>0.371395</td>\n",
       "      <td>0.356111</td>\n",
       "    </tr>\n",
       "    <tr>\n",
       "      <th>score6</th>\n",
       "      <td>0.349768</td>\n",
       "      <td>0.391606</td>\n",
       "      <td>0.356597</td>\n",
       "      <td>1.000000</td>\n",
       "      <td>0.303370</td>\n",
       "      <td>0.399002</td>\n",
       "      <td>0.377357</td>\n",
       "      <td>0.384380</td>\n",
       "      <td>0.311407</td>\n",
       "      <td>0.321566</td>\n",
       "    </tr>\n",
       "    <tr>\n",
       "      <th>score7</th>\n",
       "      <td>0.328788</td>\n",
       "      <td>0.356153</td>\n",
       "      <td>0.364598</td>\n",
       "      <td>0.303370</td>\n",
       "      <td>1.000000</td>\n",
       "      <td>0.391504</td>\n",
       "      <td>0.355818</td>\n",
       "      <td>0.379893</td>\n",
       "      <td>0.339026</td>\n",
       "      <td>0.304974</td>\n",
       "    </tr>\n",
       "    <tr>\n",
       "      <th>score1</th>\n",
       "      <td>0.395734</td>\n",
       "      <td>0.411109</td>\n",
       "      <td>0.420035</td>\n",
       "      <td>0.399002</td>\n",
       "      <td>0.391504</td>\n",
       "      <td>1.000000</td>\n",
       "      <td>0.483320</td>\n",
       "      <td>0.440927</td>\n",
       "      <td>0.413929</td>\n",
       "      <td>0.383858</td>\n",
       "    </tr>\n",
       "    <tr>\n",
       "      <th>score2</th>\n",
       "      <td>0.387539</td>\n",
       "      <td>0.454742</td>\n",
       "      <td>0.403802</td>\n",
       "      <td>0.377357</td>\n",
       "      <td>0.355818</td>\n",
       "      <td>0.483320</td>\n",
       "      <td>1.000000</td>\n",
       "      <td>0.421300</td>\n",
       "      <td>0.386685</td>\n",
       "      <td>0.375854</td>\n",
       "    </tr>\n",
       "    <tr>\n",
       "      <th>score3</th>\n",
       "      <td>0.373449</td>\n",
       "      <td>0.466421</td>\n",
       "      <td>0.399621</td>\n",
       "      <td>0.384380</td>\n",
       "      <td>0.379893</td>\n",
       "      <td>0.440927</td>\n",
       "      <td>0.421300</td>\n",
       "      <td>1.000000</td>\n",
       "      <td>0.401298</td>\n",
       "      <td>0.373718</td>\n",
       "    </tr>\n",
       "    <tr>\n",
       "      <th>score8</th>\n",
       "      <td>0.318794</td>\n",
       "      <td>0.368049</td>\n",
       "      <td>0.371395</td>\n",
       "      <td>0.311407</td>\n",
       "      <td>0.339026</td>\n",
       "      <td>0.413929</td>\n",
       "      <td>0.386685</td>\n",
       "      <td>0.401298</td>\n",
       "      <td>1.000000</td>\n",
       "      <td>0.316959</td>\n",
       "    </tr>\n",
       "    <tr>\n",
       "      <th>score9</th>\n",
       "      <td>0.311538</td>\n",
       "      <td>0.370645</td>\n",
       "      <td>0.356111</td>\n",
       "      <td>0.321566</td>\n",
       "      <td>0.304974</td>\n",
       "      <td>0.383858</td>\n",
       "      <td>0.375854</td>\n",
       "      <td>0.373718</td>\n",
       "      <td>0.316959</td>\n",
       "      <td>1.000000</td>\n",
       "    </tr>\n",
       "  </tbody>\n",
       "</table>\n",
       "</div>"
      ],
      "text/plain": [
       "          score10    score4    score5    score6    score7    score1    score2  \\\n",
       "score10  1.000000  0.384457  0.372145  0.349768  0.328788  0.395734  0.387539   \n",
       "score4   0.384457  1.000000  0.423880  0.391606  0.356153  0.411109  0.454742   \n",
       "score5   0.372145  0.423880  1.000000  0.356597  0.364598  0.420035  0.403802   \n",
       "score6   0.349768  0.391606  0.356597  1.000000  0.303370  0.399002  0.377357   \n",
       "score7   0.328788  0.356153  0.364598  0.303370  1.000000  0.391504  0.355818   \n",
       "score1   0.395734  0.411109  0.420035  0.399002  0.391504  1.000000  0.483320   \n",
       "score2   0.387539  0.454742  0.403802  0.377357  0.355818  0.483320  1.000000   \n",
       "score3   0.373449  0.466421  0.399621  0.384380  0.379893  0.440927  0.421300   \n",
       "score8   0.318794  0.368049  0.371395  0.311407  0.339026  0.413929  0.386685   \n",
       "score9   0.311538  0.370645  0.356111  0.321566  0.304974  0.383858  0.375854   \n",
       "\n",
       "           score3    score8    score9  \n",
       "score10  0.373449  0.318794  0.311538  \n",
       "score4   0.466421  0.368049  0.370645  \n",
       "score5   0.399621  0.371395  0.356111  \n",
       "score6   0.384380  0.311407  0.321566  \n",
       "score7   0.379893  0.339026  0.304974  \n",
       "score1   0.440927  0.413929  0.383858  \n",
       "score2   0.421300  0.386685  0.375854  \n",
       "score3   1.000000  0.401298  0.373718  \n",
       "score8   0.401298  1.000000  0.316959  \n",
       "score9   0.373718  0.316959  1.000000  "
      ]
     },
     "execution_count": 30,
     "metadata": {},
     "output_type": "execute_result"
    }
   ],
   "source": [
    "X.corr()"
   ]
  },
  {
   "cell_type": "markdown",
   "metadata": {},
   "source": [
    "## The best accuracy we have found so far is RandomForest, so training it onto full data"
   ]
  },
  {
   "cell_type": "code",
   "execution_count": 31,
   "metadata": {},
   "outputs": [],
   "source": [
    "from sklearn.ensemble import RandomForestClassifier\n",
    "model = RandomForestClassifier(max_depth=48, random_state=0,criterion='gini')\n",
    "model.fit(X, y)\n",
    "prediction = model.predict(X_test)"
   ]
  },
  {
   "cell_type": "code",
   "execution_count": 32,
   "metadata": {},
   "outputs": [],
   "source": [
    "import pickle\n",
    "filename = 'GradeModel.sav'\n",
    "outfile = open(filename,'wb')\n",
    "pickle.dump(model,outfile)\n",
    "outfile.close()"
   ]
  },
  {
   "cell_type": "code",
   "execution_count": null,
   "metadata": {},
   "outputs": [],
   "source": []
  }
 ],
 "metadata": {
  "kernelspec": {
   "display_name": "Python 3",
   "language": "python",
   "name": "python3"
  },
  "language_info": {
   "codemirror_mode": {
    "name": "ipython",
    "version": 3
   },
   "file_extension": ".py",
   "mimetype": "text/x-python",
   "name": "python",
   "nbconvert_exporter": "python",
   "pygments_lexer": "ipython3",
   "version": "3.7.6"
  }
 },
 "nbformat": 4,
 "nbformat_minor": 4
}
